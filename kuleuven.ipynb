{
  "cells": [
    {
      "cell_type": "markdown",
      "metadata": {
        "id": "view-in-github",
        "colab_type": "text"
      },
      "source": [
        "<a href=\"https://colab.research.google.com/github/qazaqbelgibay/text_extraction/blob/main/kuleuven.ipynb\" target=\"_parent\"><img src=\"https://colab.research.google.com/assets/colab-badge.svg\" alt=\"Open In Colab\"/></a>"
      ]
    },
    {
      "cell_type": "code",
      "execution_count": null,
      "metadata": {
        "id": "pUOK2EZehw7D"
      },
      "outputs": [],
      "source": [
        "dd!pip install python-pptx\n"
      ]
    },
    {
      "cell_type": "code",
      "execution_count": null,
      "metadata": {
        "colab": {
          "background_save": true
        },
        "id": "UE0YHBV1jSW7"
      },
      "outputs": [],
      "source": [
        "!pip install python-pptx\n",
        "\n",
        "import os\n",
        "from pptx import Presentation\n",
        "from google.colab import files\n",
        "\n",
        "def extract_text_from_ppt(ppt_file):\n",
        "    presentation = Presentation(ppt_file)\n",
        "    text = []\n",
        "\n",
        "    for slide in presentation.slides:\n",
        "        for shape in slide.shapes:\n",
        "            if hasattr(shape, 'text'):\n",
        "                text.append(shape.text)\n",
        "\n",
        "    return '\\n'.join(text)\n",
        "\n",
        "def main():\n",
        "    uploaded = files.upload()\n",
        "    ppt_files = list(uploaded.keys())\n",
        "\n",
        "    for ppt_file in ppt_files:\n",
        "        text = extract_text_from_ppt(ppt_file)\n",
        "        print(f\"Extracted text from {ppt_file}:\")\n",
        "        print(text)\n",
        "\n",
        "        os.remove(ppt_file)\n",
        "\n",
        "if __name__ == \"__main__\":\n",
        "    main()\n"
      ]
    },
    {
      "cell_type": "code",
      "execution_count": null,
      "metadata": {
        "id": "FJ8z2N0ylneN"
      },
      "outputs": [],
      "source": [
        "!pip install PyPDF2\n",
        "from google.colab import files\n",
        "from PyPDF2 import PdfReader\n",
        "\n",
        "def extract_text_from_pdf(pdf_file):\n",
        "    pdf_reader = PdfReader(pdf_file)\n",
        "    text = []\n",
        "\n",
        "    for page in pdf_reader.pages:\n",
        "        text.append(page.extract_text())\n",
        "\n",
        "    return '\\n'.join(text)\n",
        "\n",
        "def main():\n",
        "    uploaded = files.upload()\n",
        "    for pdf_file in uploaded.keys():\n",
        "        text = extract_text_from_pdf(pdf_file)\n",
        "        print(f\"Extracted text from {pdf_file}:\")\n",
        "        print(text)\n",
        "\n",
        "if __name__ == \"__main__\":\n",
        "    main()\n"
      ]
    },
    {
      "cell_type": "code",
      "execution_count": null,
      "metadata": {
        "id": "VfIM4Di2oRhF"
      },
      "outputs": [],
      "source": [
        "!pip install pdf2image pytesseract PyPDF2\n",
        "!apt-get install -y poppler-utils\n",
        "!apt install tesseract-ocr\n",
        "!apt install libtesseract-dev\n",
        "from pdf2image import convert_from_path\n",
        "from pytesseract import image_to_string\n",
        "from PyPDF2 import PdfReader\n",
        "from google.colab import files\n",
        "import os\n",
        "\n",
        "def extract_text_from_pdf(pdf_file):\n",
        "    \"\"\"Extract text from standard PDFs using PyPDF2.\"\"\"\n",
        "    pdf_reader = PdfReader(pdf_file)\n",
        "    text = []\n",
        "\n",
        "    for page in pdf_reader.pages:\n",
        "        text.append(page.extract_text())\n",
        "\n",
        "    return '\\n'.join(text)\n",
        "\n",
        "def extract_text_from_hardcoded_pdf(pdf_file):\n",
        "    \"\"\"Extract text from hardcoded PDFs using pdf2image and pytesseract.\"\"\"\n",
        "    # Convert PDF to list of images\n",
        "    images = convert_from_path(pdf_file)\n",
        "\n",
        "    # Extract text from each image\n",
        "    texts = [image_to_string(img) for img in images]\n",
        "\n",
        "    return '\\n'.join(texts)\n",
        "\n",
        "def main():\n",
        "    uploaded = files.upload()\n",
        "    for pdf_file in uploaded.keys():\n",
        "        # First, try standard extraction\n",
        "        text = extract_text_from_pdf(pdf_file)\n",
        "\n",
        "        # If no text is extracted, try OCR extraction\n",
        "        if not text.strip():\n",
        "            text = extract_text_from_hardcoded_pdf(pdf_file)\n",
        "\n",
        "        print(f\"Extracted text from {pdf_file}:\")\n",
        "        print(text)\n",
        "\n",
        "        os.remove(pdf_file)\n",
        "\n",
        "if __name__ == \"__main__\":\n",
        "    main()\n"
      ]
    },
    {
      "cell_type": "code",
      "execution_count": null,
      "metadata": {
        "id": "T57_QH3K3lzr"
      },
      "outputs": [],
      "source": [
        "# Importing necessary libraries\n",
        "from PIL import Image\n",
        "import pytesseract\n",
        "from google.colab import files\n",
        "\n",
        "# Function to upload the PNG image\n",
        "def upload_image():\n",
        "    uploaded = files.upload()\n",
        "    image_path = list(uploaded.keys())[0]\n",
        "    return image_path\n",
        "\n",
        "# Function to extract text using OCR\n",
        "def ocr_image_to_text(image_path):\n",
        "    # Opening the image\n",
        "    image = Image.open(image_path)\n",
        "\n",
        "    # Extracting text from the image\n",
        "    text = pytesseract.image_to_string(image)\n",
        "    return text\n",
        "\n",
        "# Uploading the image\n",
        "image_path = upload_image()\n",
        "\n",
        "# Extracting text from the image\n",
        "extracted_text = ocr_image_to_text(image_path)\n",
        "\n",
        "# Showing the extracted text\n",
        "print(extracted_text)\n"
      ]
    },
    {
      "cell_type": "code",
      "execution_count": null,
      "metadata": {
        "id": "gP5i9v444rUN"
      },
      "outputs": [],
      "source": [
        "!sudo apt install tesseract-ocr\n",
        "\n",
        "\n",
        "# Importing necessary libraries\n",
        "from PIL import Image\n",
        "import pytesseract\n",
        "from google.colab import files\n",
        "\n",
        "# Function to upload multiple PNG images\n",
        "def upload_images():\n",
        "    uploaded = files.upload()\n",
        "    image_paths = list(uploaded.keys())\n",
        "    return image_paths\n",
        "\n",
        "# Function to extract text using OCR\n",
        "def ocr_image_to_text(image_path):\n",
        "    # Opening the image\n",
        "    image = Image.open(image_path)\n",
        "\n",
        "    # Extracting text from the image\n",
        "    text = pytesseract.image_to_string(image)\n",
        "    return text\n",
        "\n",
        "# Uploading the images\n",
        "image_paths = upload_images()\n",
        "\n",
        "# Extracting text from each image and printing the results\n",
        "for image_path in image_paths:\n",
        "    extracted_text = ocr_image_to_text(image_path)\n",
        "    print(f\"Text extracted from {image_path}:\")\n",
        "    print(extracted_text)\n",
        "    print(\"=\"*50)  # Separator between the results\n"
      ]
    },
    {
      "cell_type": "code",
      "execution_count": null,
      "metadata": {
        "id": "GbNZbAfXoZYj"
      },
      "outputs": [],
      "source": []
    }
  ],
  "metadata": {
    "colab": {
      "toc_visible": true,
      "provenance": [],
      "authorship_tag": "ABX9TyN0baS4YBvWgt5D+izprpGk",
      "include_colab_link": true
    },
    "kernelspec": {
      "display_name": "Python 3",
      "name": "python3"
    },
    "language_info": {
      "name": "python"
    }
  },
  "nbformat": 4,
  "nbformat_minor": 0
}